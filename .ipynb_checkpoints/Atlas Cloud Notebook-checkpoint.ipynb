{
 "cells": [
  {
   "cell_type": "markdown",
   "metadata": {},
   "source": [
    "# Atlas Cloud Notebook"
   ]
  },
  {
   "cell_type": "code",
   "execution_count": null,
   "metadata": {},
   "outputs": [],
   "source": [
    "class AtlasCloud(object):\n",
    "    StreamingURL = \"\"\n",
    "    HarvesterID = \"\"\n",
    "    \n",
    "    # ELEMENT CLASS\n",
    "    class Element(object):\n",
    "        def __init__(self, json, HarvesterID, API_KEY):\n",
    "            self.json = json\n",
    "            self.HarvesterID = HarvesterID\n",
    "            self.API_KEY = API_KEY\n",
    "            \n",
    "        def Click(self):\n",
    "            json_value = json.loads(self.json)\n",
    "            ElementID = json_value['ElementID']\n",
    "            url = 'https://r807y7fvp2.execute-api.us-east-1.amazonaws.com/Alpha/clickelement'\n",
    "            payload = {'HarvesterID': self.HarvesterID ,'ElementID': ElementID}\n",
    "            headers = {'content-type': 'application/json', 'X-API-KEY': self.API_KEY}\n",
    "            response = requests.post(url, data=json.dumps(payload), headers=headers)\n",
    "            parsed_json = json.loads(response.text)\n",
    "            \n",
    "        \n",
    "    # PAGE FUNCTIONS\n",
    "    def __init__(self, API_KEY, headless, timeout=10 ):\n",
    "        self.API_KEY = API_KEY\n",
    "        url = 'https://r807y7fvp2.execute-api.us-east-1.amazonaws.com/Alpha/page'\n",
    "        headers = {'content-type': 'application/json', 'X-API-KEY': self.API_KEY}\n",
    "        response = requests.post(url, headers=headers)\n",
    "        parsed_json = json.loads(response.text)\n",
    "        self.HarvesterID = parsed_json['HarvestID']\n",
    "        self.StreamingURL = parsed_json['StreamingURL']\n",
    "        HarvesterID = self.HarvesterID\n",
    "        StreamingURL = self.StreamingURL\n",
    "        webbrowser.open(StreamingURL)\n",
    "        \n",
    "    \n",
    "    def load(self, URL):\n",
    "        url = 'https://r807y7fvp2.execute-api.us-east-1.amazonaws.com/Alpha/load'\n",
    "        payload = {'HarvesterID': self.HarvesterID ,'URL': URL}\n",
    "        headers = {'content-type': 'application/json', 'X-API-KEY': self.API_KEY}\n",
    "        response = requests.post(url, data=json.dumps(payload), headers=headers)\n",
    "        parsed_json = json.loads(response.text)\n",
    "        return True\n",
    "    \n",
    "    def GetElementByAttribute(self,Tag, Attribute, Value):\n",
    "        url = 'https://r807y7fvp2.execute-api.us-east-1.amazonaws.com/Alpha/getelementbyattribute'\n",
    "        payload = {'HarvesterID': self.HarvesterID ,'Tag': Tag, 'Attribute': Attribute, 'Value':Value}\n",
    "        headers = {'content-type': 'application/json', 'X-API-KEY':self.API_KEY}\n",
    "        response = requests.post(url, data=json.dumps(payload), headers=headers)\n",
    "        element = self.Element(response.text, self.HarvesterID, self.API_KEY)\n",
    "        return element"
   ]
  }
 ],
 "metadata": {
  "kernelspec": {
   "display_name": "Python 3",
   "language": "python",
   "name": "python3"
  },
  "language_info": {
   "codemirror_mode": {
    "name": "ipython",
    "version": 3
   },
   "file_extension": ".py",
   "mimetype": "text/x-python",
   "name": "python",
   "nbconvert_exporter": "python",
   "pygments_lexer": "ipython3",
   "version": "3.6.5"
  }
 },
 "nbformat": 4,
 "nbformat_minor": 2
}
